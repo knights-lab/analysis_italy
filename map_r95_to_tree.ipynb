{
 "cells": [
  {
   "cell_type": "code",
   "execution_count": 1,
   "metadata": {},
   "outputs": [
    {
     "name": "stdout",
     "output_type": "stream",
     "text": [
      "seaborn 0.10.1\n",
      "numpy   1.18.4\n",
      "pandas  1.0.4\n",
      "\n"
     ]
    }
   ],
   "source": [
    "import numpy as np\n",
    "import matplotlib.pyplot as plt\n",
    "import pandas as pd\n",
    "import warnings\n",
    "import seaborn as sns\n",
    "\n",
    "from scipy.stats import pearsonr\n",
    "\n",
    "sns.set_style(\"darkgrid\")\n",
    "np.random.seed(930525)\n",
    "pd.set_option('display.max_columns', 20)\n",
    "pd.set_option('display.max_rows', 200)\n",
    "\n",
    "warnings.simplefilter('once')\n",
    "\n",
    "%matplotlib inline\n",
    "%load_ext watermark\n",
    "%watermark --iversions"
   ]
  },
  {
   "cell_type": "code",
   "execution_count": 2,
   "metadata": {},
   "outputs": [],
   "source": [
    "reference_map = \"data/r95.tax\""
   ]
  },
  {
   "cell_type": "code",
   "execution_count": 3,
   "metadata": {},
   "outputs": [],
   "source": [
    "reference_to_tax = {}\n",
    "with open(reference_map) as inf:\n",
    "    for line in inf:\n",
    "        row = line.strip().split()\n",
    "        row[1] = row[1].replace('d__', 'k__').replace(' ', '_').replace(';', '.')\n",
    "#         if len(row[1].split(';')) != 7:\n",
    "#             print(row[1])\n",
    "        reference_to_tax[row[0]] = row[1]"
   ]
  },
  {
   "cell_type": "code",
   "execution_count": 10,
   "metadata": {},
   "outputs": [],
   "source": [
    "import copy\n",
    "\n",
    "combo_tree = \"data/combo.tree\"\n",
    "\n",
    "with open(combo_tree) as inf:\n",
    "    str_tree = inf.read()\n",
    "    \n",
    "orig_tree = copy.copy(str_tree)"
   ]
  },
  {
   "cell_type": "code",
   "execution_count": 5,
   "metadata": {},
   "outputs": [
    {
     "name": "stdout",
     "output_type": "stream",
     "text": [
      "RS_GCF_000980155.1\n",
      "RS_GCF_000356705.1\n",
      "RS_GCF_002317525.1\n",
      "RS_GCF_001306525.1\n",
      "RS_GCF_900036185.1\n",
      "RS_GCF_900512475.1\n",
      "RS_GCF_003410785.1\n",
      "RS_GCF_000776745.1\n",
      "RS_GCF_900448395.1\n",
      "RS_GCF_900588745.1\n",
      "RS_GCF_001497075.1\n",
      "RS_GCF_001706215.1\n",
      "RS_GCF_003042385.1\n",
      "RS_GCF_004745435.1\n",
      "RS_GCF_001307275.1\n",
      "GB_GCA_002296405.1\n",
      "GB_GCA_005793215.1\n",
      "RS_GCF_002776695.1\n",
      "RS_GCF_003351905.1\n",
      "RS_GCF_900109925.1\n"
     ]
    }
   ],
   "source": [
    "import re\n",
    "\n",
    "for i, (k, v) in enumerate(reference_to_tax.items()):\n",
    "    str_tree = re.sub(k, v, str_tree)\n",
    "    if i % 10_000 == 0:\n",
    "        print(k)"
   ]
  },
  {
   "cell_type": "code",
   "execution_count": 6,
   "metadata": {},
   "outputs": [],
   "source": [
    "str_tree = re.sub('d__', 'k__', str_tree)"
   ]
  },
  {
   "cell_type": "code",
   "execution_count": 7,
   "metadata": {},
   "outputs": [],
   "source": [
    "with open('data/gtdb.tre', 'w') as outf:\n",
    "    outf.write(str_tree)"
   ]
  },
  {
   "cell_type": "code",
   "execution_count": 11,
   "metadata": {},
   "outputs": [],
   "source": [
    "shogun_tree = copy.copy(orig_tree)\n",
    "\n",
    "shogun_tree = re.sub('RS_', '', shogun_tree)\n",
    "shogun_tree = re.sub('GB_', '', shogun_tree)\n",
    "\n",
    "with open('data/shogun.tre', 'w') as outf:\n",
    "    outf.write(shogun_tree)"
   ]
  }
 ],
 "metadata": {
  "kernelspec": {
   "display_name": "Python [conda env:.conda-type_1]",
   "language": "python",
   "name": "conda-env-.conda-type_1-py"
  },
  "language_info": {
   "codemirror_mode": {
    "name": "ipython",
    "version": 3
   },
   "file_extension": ".py",
   "mimetype": "text/x-python",
   "name": "python",
   "nbconvert_exporter": "python",
   "pygments_lexer": "ipython3",
   "version": "3.8.2"
  }
 },
 "nbformat": 4,
 "nbformat_minor": 4
}
