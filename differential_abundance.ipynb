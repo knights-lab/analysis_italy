{
 "cells": [
  {
   "cell_type": "code",
   "execution_count": 1,
   "metadata": {},
   "outputs": [
    {
     "name": "stdout",
     "output_type": "stream",
     "text": [
      "numpy   1.18.4\n",
      "pandas  1.0.4\n",
      "seaborn 0.10.1\n",
      "\n"
     ]
    }
   ],
   "source": [
    "import numpy as np\n",
    "import matplotlib.pyplot as plt\n",
    "import pandas as pd\n",
    "import warnings\n",
    "import seaborn as sns\n",
    "\n",
    "from scipy.stats import pearsonr\n",
    "\n",
    "sns.set_style(\"darkgrid\")\n",
    "np.random.seed(930525)\n",
    "pd.set_option('display.max_columns', 20)\n",
    "pd.set_option('display.max_rows', 200)\n",
    "\n",
    "warnings.simplefilter('once')\n",
    "\n",
    "%matplotlib inline\n",
    "%load_ext watermark\n",
    "%watermark --iversions"
   ]
  },
  {
   "cell_type": "code",
   "execution_count": 2,
   "metadata": {},
   "outputs": [],
   "source": [
    "ko_table = \"data/genefamilies.ko.cpm.tsv\"\n",
    "tax_table = \"data/tax.capitalist.98.tsv\""
   ]
  },
  {
   "cell_type": "code",
   "execution_count": 3,
   "metadata": {},
   "outputs": [],
   "source": [
    "df_ko = pd.read_csv(ko_table, header=0, sep=\"\\t\", index_col=0)"
   ]
  },
  {
   "cell_type": "code",
   "execution_count": 4,
   "metadata": {},
   "outputs": [],
   "source": [
    "df_tax = pd.read_csv(tax_table, header=0, sep=\"\\t\", index_col=0)"
   ]
  },
  {
   "cell_type": "code",
   "execution_count": 5,
   "metadata": {},
   "outputs": [
    {
     "data": {
      "text/plain": [
       "Index(['ASTER.02.S34.001.fa_Abundance-CPM', 'BIRO.74.S19.001.fa_Abundance-CPM',\n",
       "       'BODA.52.S9.001.fa_Abundance-CPM', 'BUMA.05.S4.001.fa_Abundance-CPM',\n",
       "       'CAAU.07.S2.001.fa_Abundance-CPM', 'CAPMA.83.S12.001.fa_Abundance-CPM',\n",
       "       'CHMA.61.S3.001.fa_Abundance-CPM', 'COCL.11.S7.001.fa_Abundance-CPM',\n",
       "       'DEFI.14.S6.001.fa_Abundance-CPM', 'DEIS.70.S26.001.fa_Abundance-CPM',\n",
       "       'DETH.41.S27.001.fa_Abundance-CPM', 'DIAL.15.S23.001.fa_Abundance-CPM',\n",
       "       'DIGMA.71.S21.001.fa_Abundance-CPM', 'DOEC.81.S30.001.fa_Abundance-CPM',\n",
       "       'EKJO.64.S32.001.fa_Abundance-CPM', 'FAFE.16.S10.001.fa_Abundance-CPM',\n",
       "       'FOGI.63.S13.001.fa_Abundance-CPM', 'GIFI.21.S22.001.fa_Abundance-CPM',\n",
       "       'LAES.91.S29.001.fa_Abundance-CPM', 'MEEN.93.S11.001.fa_Abundance-CPM',\n",
       "       'MERI.28.S20.001.fa_Abundance-CPM', 'MOEM.48.S16.001.fa_Abundance-CPM',\n",
       "       'MUNA.98.S28.001.fa_Abundance-CPM', 'OPSE.53.S5.001.fa_Abundance-CPM',\n",
       "       'PAMA.46.S18.001.fa_Abundance-CPM', 'PRPI.42.S31.001.fa_Abundance-CPM',\n",
       "       'ROAL.75.S33.001.fa_Abundance-CPM', 'RODE.80.S8.001.fa_Abundance-CPM',\n",
       "       'TAOT.65.S24.001.fa_Abundance-CPM', 'TECA.45.S15.001.fa_Abundance-CPM',\n",
       "       'TOSA.76.S25.001.fa_Abundance-CPM', 'VUGE.37.S14.001.fa_Abundance-CPM',\n",
       "       'WACH.38.S1.001.fa_Abundance-CPM',\n",
       "       'pos.dna.01.S17.001.fa_Abundance-CPM',\n",
       "       'pos.dna.02.S35.001.fa_Abundance-CPM'],\n",
       "      dtype='object')"
      ]
     },
     "execution_count": 5,
     "metadata": {},
     "output_type": "execute_result"
    }
   ],
   "source": [
    "df_ko.columns"
   ]
  },
  {
   "cell_type": "code",
   "execution_count": 6,
   "metadata": {},
   "outputs": [],
   "source": [
    "kos = df_ko.index"
   ]
  },
  {
   "cell_type": "code",
   "execution_count": 7,
   "metadata": {},
   "outputs": [],
   "source": [
    "from collections import defaultdict\n",
    "\n",
    "ungrouped_mask = np.array([not \"|\" in _ for _ in kos])\n",
    "k_mask = np.array([_.startswith(\"K\") for _ in kos])"
   ]
  },
  {
   "cell_type": "code",
   "execution_count": 8,
   "metadata": {},
   "outputs": [
    {
     "data": {
      "text/plain": [
       "Index(['K00001', 'K00002', 'K00003', 'K00004', 'K00005', 'K00006', 'K00008',\n",
       "       'K00009', 'K00010', 'K00012',\n",
       "       ...\n",
       "       'K19576', 'K19577', 'K19585', 'K19587', 'K19589', 'K19591', 'K19609',\n",
       "       'K19610', 'K19611', 'K19648'],\n",
       "      dtype='object', name='# Gene Family', length=7220)"
      ]
     },
     "execution_count": 8,
     "metadata": {},
     "output_type": "execute_result"
    }
   ],
   "source": [
    "df_ko = df_ko.loc[ungrouped_mask & k_mask]\n",
    "\n",
    "df_ko.index "
   ]
  },
  {
   "cell_type": "code",
   "execution_count": 9,
   "metadata": {},
   "outputs": [],
   "source": [
    "df_ko = df_ko.sort_index(axis=1)\n",
    "df_tax = df_tax.sort_index(axis=1)"
   ]
  },
  {
   "cell_type": "code",
   "execution_count": 10,
   "metadata": {},
   "outputs": [],
   "source": [
    "# we only want species present in greater than 95% of the samples\n",
    "df_tax = df_tax.T\n",
    "mask_low_prevalence = ((df_tax > 0).sum(axis=0)) / df_tax.shape[0] >= .8\n",
    "\n",
    "\n",
    "# mask low abundance\n",
    "mask_low_abundance = (df_tax.median(axis=0) / df_tax.median().sum()) >= .0001\n",
    "\n",
    "df_tax = df_tax.loc[:, mask_low_prevalence & mask_low_abundance].T"
   ]
  },
  {
   "cell_type": "code",
   "execution_count": 11,
   "metadata": {},
   "outputs": [
    {
     "data": {
      "text/plain": [
       "(355, 35)"
      ]
     },
     "execution_count": 11,
     "metadata": {},
     "output_type": "execute_result"
    }
   ],
   "source": [
    "df_tax.shape"
   ]
  },
  {
   "cell_type": "code",
   "execution_count": 12,
   "metadata": {},
   "outputs": [],
   "source": [
    "# we only want species present in greater than 95% of the samples\n",
    "df_ko = df_ko.T\n",
    "mask_low_prevalence = ((df_ko > 0).sum(axis=0)) / df_ko.shape[0] >= .8\n",
    "\n",
    "\n",
    "# mask low abundance\n",
    "mask_low_abundance = (df_ko.median(axis=0) / df_ko.median().sum()) >= .0001\n",
    "\n",
    "df_ko = df_ko.loc[:, mask_low_prevalence & mask_low_abundance].T"
   ]
  },
  {
   "cell_type": "code",
   "execution_count": 13,
   "metadata": {},
   "outputs": [
    {
     "data": {
      "text/plain": [
       "(1325, 35)"
      ]
     },
     "execution_count": 13,
     "metadata": {},
     "output_type": "execute_result"
    }
   ],
   "source": [
    "df_ko.shape"
   ]
  },
  {
   "cell_type": "code",
   "execution_count": null,
   "metadata": {},
   "outputs": [],
   "source": [
    "from scipy.stats import spearmanr\n",
    "\n",
    "rows = []\n",
    "\n",
    "for ko in df_ko.iterrows():\n",
    "    rows.append((ko[0], df_tax.apply(lambda x: spearmanr(x, ko[1]), axis=1)))"
   ]
  },
  {
   "cell_type": "code",
   "execution_count": 15,
   "metadata": {},
   "outputs": [
    {
     "data": {
      "text/plain": [
       "149"
      ]
     },
     "execution_count": 15,
     "metadata": {},
     "output_type": "execute_result"
    }
   ],
   "source": [
    "len(rows)"
   ]
  }
 ],
 "metadata": {
  "kernelspec": {
   "display_name": "Python [conda env:.conda-type_1]",
   "language": "python",
   "name": "conda-env-.conda-type_1-py"
  },
  "language_info": {
   "codemirror_mode": {
    "name": "ipython",
    "version": 3
   },
   "file_extension": ".py",
   "mimetype": "text/x-python",
   "name": "python",
   "nbconvert_exporter": "python",
   "pygments_lexer": "ipython3",
   "version": "3.8.2"
  }
 },
 "nbformat": 4,
 "nbformat_minor": 4
}
